{
 "cells": [
  {
   "cell_type": "markdown",
   "metadata": {},
   "source": [
    "# Question 1"
   ]
  },
  {
   "cell_type": "code",
   "execution_count": 2,
   "metadata": {},
   "outputs": [
    {
     "name": "stdout",
     "output_type": "stream",
     "text": [
      "Subtraction of two complex no = (-1+1j)\n"
     ]
    }
   ],
   "source": [
    "complex_no1 = 8 + 7j\n",
    "complex_no2 = 9 + 6j\n",
    "print(\"Subtraction of two complex no =\", complex_no1 - complex_no2)"
   ]
  },
  {
   "cell_type": "markdown",
   "metadata": {},
   "source": [
    "# Question 2"
   ]
  },
  {
   "cell_type": "code",
   "execution_count": 5,
   "metadata": {},
   "outputs": [
    {
     "name": "stdout",
     "output_type": "stream",
     "text": [
      "Enter a number:64\n",
      "The fourth square root of 64 is: 2.8284271247461903\n"
     ]
    }
   ],
   "source": [
    "#Write a program to find the fourth root of a number.\n",
    "import math\n",
    "n=int(input(\"Enter a number:\"))\n",
    "ans=math.sqrt(math.sqrt(n))\n",
    "print(\"The fourth square root of\",n,\"is:\",ans)"
   ]
  },
  {
   "cell_type": "markdown",
   "metadata": {},
   "source": [
    "# Question 3"
   ]
  },
  {
   "cell_type": "code",
   "execution_count": 9,
   "metadata": {},
   "outputs": [
    {
     "name": "stdout",
     "output_type": "stream",
     "text": [
      "The values before swapping a= 2 b= 5\n",
      "The values after swapping a= 5 b= 2\n"
     ]
    }
   ],
   "source": [
    "# without using temporary variable to swap two numbers\n",
    "a=2\n",
    "b=5\n",
    "print(\"The values before swapping\",\"a=\", a,\"b=\",b)\n",
    "a,b=b,a\n",
    "print(\"The values after swapping\", \"a=\", a,\"b=\",b)"
   ]
  },
  {
   "cell_type": "markdown",
   "metadata": {},
   "source": [
    "# Question 4"
   ]
  },
  {
   "cell_type": "code",
   "execution_count": 10,
   "metadata": {},
   "outputs": [
    {
     "name": "stdout",
     "output_type": "stream",
     "text": [
      "x =  2\n",
      "y =  1\n"
     ]
    }
   ],
   "source": [
    "x = 1\n",
    "y = 2\n",
    "\n",
    "x, y = y, x\n",
    "\n",
    "print(\"x = \", x)\n",
    "print(\"y = \", y)"
   ]
  },
  {
   "cell_type": "markdown",
   "metadata": {},
   "source": [
    "# Question 5"
   ]
  },
  {
   "cell_type": "code",
   "execution_count": 11,
   "metadata": {},
   "outputs": [
    {
     "name": "stdout",
     "output_type": "stream",
     "text": [
      "The celsius temperature of 99.8 fahrenheit degree is 37.67 celsius\n",
      "The kelvin temperature of 99.8 fahrenheit degree is 311.17 Kelvin\n"
     ]
    }
   ],
   "source": [
    "# Conversion of Fahrenheit to Celsius and kelvin\n",
    "fahrenheit= 99.8\n",
    "celsius =round((fahrenheit - 32) / 1.8,2)\n",
    "print(\"The celsius temperature of\",fahrenheit,\"fahrenheit degree is\",celsius,\"celsius\")\n",
    "K = round(273.5 + ((fahrenheit - 32.0) * (5.0/9.0)),2)\n",
    "print(\"The kelvin temperature of\",fahrenheit,\"fahrenheit degree is\",K,\"Kelvin\")"
   ]
  },
  {
   "cell_type": "markdown",
   "metadata": {},
   "source": [
    "# Question 6\n"
   ]
  },
  {
   "cell_type": "code",
   "execution_count": 12,
   "metadata": {},
   "outputs": [
    {
     "name": "stdout",
     "output_type": "stream",
     "text": [
      "7 is of type <class 'int'>\n",
      "5.0 is of type <class 'float'>\n",
      "(1+5j) is of type <class 'complex'>\n",
      "letsupgrade is of type <class 'str'>\n",
      "[] is of type <class 'list'>\n",
      "{5, 6, 7} is of type <class 'set'>\n",
      "{1: 2, 3: 4} is of type <class 'dict'>\n",
      "(5, 6, 7) is of type <class 'tuple'>\n"
     ]
    }
   ],
   "source": [
    "#Write a program to demonstrate all the available data types in Python. \n",
    "a=7\n",
    "print(a, \"is of type\", type(a))\n",
    "a = 5.0\n",
    "print(a, \"is of type\", type(a))\n",
    "a=1+5j\n",
    "print(a, \"is of type\", type(a))\n",
    "a=\"letsupgrade\"\n",
    "print(a, \"is of type\", type(a))\n",
    "a=[]\n",
    "print(a, \"is of type\", type(a))\n",
    "a={5,6,7}\n",
    "print(a, \"is of type\", type(a))\n",
    "a={1: 2, 3: 4}\n",
    "print(a, \"is of type\", type(a))\n",
    "a=(5, 6, 7)\n",
    "print(a, \"is of type\", type(a))"
   ]
  },
  {
   "cell_type": "markdown",
   "metadata": {},
   "source": [
    "# Question 7"
   ]
  },
  {
   "cell_type": "markdown",
   "metadata": {},
   "source": [
    "Step 1 : First you have to sign up on GitHub(create your profile)\n",
    "\n",
    "Step 2 : Create a new reository with respository name as LetsUpgrade AI-ML, then give description as Assignments and make it Public and submit the created repository\n",
    "\n",
    "Step 3 : Once you created repository, the folder will be created and then there will be option of upload of existing file then you have to drag and drop your downloaded file of .ipynb of Folder name and then proceed with commit changes.\n",
    "\n",
    "Step 4 : You successfully uploaded the folder on GitHub. Verify once your folder is uploaded successfully or not. Then go to that folder, click the url link and copy that.\n",
    "\n",
    "Step 5 : LetsUpgrade shares Assignments Google form, in that you have to fill the all information with registered email and give the copied link of github url in form and verify that link before filling the form. Hence Your assignment will be uploaded"
   ]
  },
  {
   "cell_type": "code",
   "execution_count": null,
   "metadata": {},
   "outputs": [],
   "source": []
  }
 ],
 "metadata": {
  "kernelspec": {
   "display_name": "Python 3",
   "language": "python",
   "name": "python3"
  },
  "language_info": {
   "codemirror_mode": {
    "name": "ipython",
    "version": 3
   },
   "file_extension": ".py",
   "mimetype": "text/x-python",
   "name": "python",
   "nbconvert_exporter": "python",
   "pygments_lexer": "ipython3",
   "version": "3.8.3"
  }
 },
 "nbformat": 4,
 "nbformat_minor": 4
}
